{
  "nbformat": 4,
  "nbformat_minor": 0,
  "metadata": {
    "kernelspec": {
      "language": "python",
      "display_name": "Python 3",
      "name": "python3"
    },
    "language_info": {
      "name": "python",
      "version": "3.7.9",
      "mimetype": "text/x-python",
      "codemirror_mode": {
        "name": "ipython",
        "version": 3
      },
      "pygments_lexer": "ipython3",
      "nbconvert_exporter": "python",
      "file_extension": ".py"
    },
    "colab": {
      "name": "word-level-text-generator-bilstm.ipynb",
      "provenance": [],
      "include_colab_link": true
    },
    "accelerator": "GPU"
  },
  "cells": [
    {
      "cell_type": "markdown",
      "metadata": {
        "id": "view-in-github",
        "colab_type": "text"
      },
      "source": [
        "<a href=\"https://colab.research.google.com/github/nikewinchester/Text-Generator-LSTM/blob/main/word-level-text-generator-bilstm.ipynb\" target=\"_parent\"><img src=\"https://colab.research.google.com/assets/colab-badge.svg\" alt=\"Open In Colab\"/></a>"
      ]
    },
    {
      "cell_type": "markdown",
      "metadata": {
        "id": "WflxlADe9E6W"
      },
      "source": [
        "## Importing required packages"
      ]
    },
    {
      "cell_type": "code",
      "metadata": {
        "id": "jdhdgnyBzxt1",
        "trusted": true
      },
      "source": [
        "from tensorflow.keras.preprocessing.sequence import pad_sequences\n",
        "from tensorflow.keras.layers import Embedding, LSTM, Dense, Dropout, Bidirectional\n",
        "from tensorflow.keras.preprocessing.text import Tokenizer\n",
        "from tensorflow.keras.models import Sequential\n",
        "from tensorflow.keras.optimizers import Adam\n",
        "from tensorflow.keras import regularizers\n",
        "import tensorflow.keras.utils as ku \n",
        "import numpy as np\n",
        "import re\n",
        "import tensorflow as tf"
      ],
      "execution_count": 16,
      "outputs": []
    },
    {
      "cell_type": "markdown",
      "metadata": {
        "id": "utbcQS559MNj"
      },
      "source": [
        "## Reading dataset (given text file) from github"
      ]
    },
    {
      "cell_type": "code",
      "metadata": {
        "id": "FBv9zhfCVeKc"
      },
      "source": [
        "import requests\n",
        "from bs4 import BeautifulSoup\n",
        "gitfile = requests.get('https://raw.githubusercontent.com/nikewinchester/Text-Generator-LSTM/main/NLP task.txt')\n",
        "data = str(BeautifulSoup(gitfile.content, \"html.parser\"))"
      ],
      "execution_count": 17,
      "outputs": []
    },
    {
      "cell_type": "markdown",
      "metadata": {
        "id": "IJYwxaNv9YA5"
      },
      "source": [
        "## Tokenizing the words by making a dictionary (using fit_on_texts) where each unique word is associated with a number"
      ]
    },
    {
      "cell_type": "code",
      "metadata": {
        "id": "_Ahf5Qakz-GU",
        "trusted": true,
        "colab": {
          "base_uri": "https://localhost:8080/"
        },
        "outputId": "d5c6c89c-d477-42f5-d483-f66aa56f48e8"
      },
      "source": [
        "tokenizer = Tokenizer()\n",
        "corpus = data.lower().split(\".\")\n",
        "for i in range(0,len(corpus)):\n",
        "  s = re.sub(' +',' ',(re.sub(r'[^\\w]', ' ', corpus[i])))\n",
        "  corpus[i] = s\n",
        "print(len(corpus))\n",
        "tokenizer.fit_on_texts(corpus)\n",
        "total_words = len(tokenizer.word_index) + 1"
      ],
      "execution_count": 18,
      "outputs": [
        {
          "output_type": "stream",
          "text": [
            "6417\n"
          ],
          "name": "stdout"
        }
      ]
    },
    {
      "cell_type": "markdown",
      "metadata": {
        "id": "T3bQmTdr9orF"
      },
      "source": [
        "## Converting sentences to respected vector list (using the numbers got from previous step). Creating n-gram sequences as inputs for all input sentences."
      ]
    },
    {
      "cell_type": "code",
      "metadata": {
        "id": "Vi8NT8W-0p9w",
        "trusted": true
      },
      "source": [
        "input_sequences = []\n",
        "for j in corpus:\n",
        " token_list = tokenizer.texts_to_sequences([j])[0]\n",
        " for i in range(1, len(token_list)):\n",
        "  n_gram_sequence = token_list[:i+1]\n",
        "  input_sequences.append(n_gram_sequence)"
      ],
      "execution_count": 19,
      "outputs": []
    },
    {
      "cell_type": "markdown",
      "metadata": {
        "id": "lIhhCWlr-B7Q"
      },
      "source": [
        "## Padding the input sequences to make it all of the same length. This will help the model learn better."
      ]
    },
    {
      "cell_type": "code",
      "metadata": {
        "id": "JW-ibCBj5JYS",
        "trusted": true
      },
      "source": [
        "max_sequence_len = max([len(x) for x in input_sequences])\n",
        "input_sequences = np.array(pad_sequences(input_sequences, maxlen=max_sequence_len, padding='pre'))"
      ],
      "execution_count": 20,
      "outputs": []
    },
    {
      "cell_type": "markdown",
      "metadata": {
        "id": "5R-Or8Tj-Uh7"
      },
      "source": [
        "## Creating input data and output data from given sequences. Further converts output labels into a standardized binary matrix using keras.utils.to_categorical"
      ]
    },
    {
      "cell_type": "code",
      "metadata": {
        "id": "-Yk5DPSjv8fL"
      },
      "source": [
        "predictors, label = input_sequences[:,:-1],input_sequences[:,-1]\n",
        "label = ku.to_categorical(label, num_classes=total_words)"
      ],
      "execution_count": 21,
      "outputs": []
    },
    {
      "cell_type": "markdown",
      "metadata": {
        "id": "mJZf7KTU_Hne"
      },
      "source": [
        "## Building model using Bidirectional LSTM. Added dropout to prevent overfitting."
      ]
    },
    {
      "cell_type": "code",
      "metadata": {
        "id": "5NBPXWIEzv1R",
        "trusted": true,
        "outputId": "f22761b5-2cb7-445c-88eb-313f08df9b6c",
        "colab": {
          "base_uri": "https://localhost:8080/"
        }
      },
      "source": [
        "model = Sequential()\n",
        "model.add(Embedding(total_words, 100, input_length=max_sequence_len-1))\n",
        "model.add(Bidirectional(LSTM(64, return_sequences = True)))\n",
        "model.add(Dropout(0.2))\n",
        "model.add(LSTM(64))\n",
        "model.add(Dense(total_words/2, activation='relu', kernel_regularizer=regularizers.l2(0.01)))\n",
        "model.add(Dense(total_words, activation='softmax'))\n",
        "model.compile(loss='categorical_crossentropy', optimizer='adam', metrics=['accuracy'])\n",
        "print(model.summary())"
      ],
      "execution_count": 22,
      "outputs": [
        {
          "output_type": "stream",
          "text": [
            "Model: \"sequential_1\"\n",
            "_________________________________________________________________\n",
            "Layer (type)                 Output Shape              Param #   \n",
            "=================================================================\n",
            "embedding_1 (Embedding)      (None, 104, 100)          816400    \n",
            "_________________________________________________________________\n",
            "bidirectional_1 (Bidirection (None, 104, 128)          84480     \n",
            "_________________________________________________________________\n",
            "dropout_1 (Dropout)          (None, 104, 128)          0         \n",
            "_________________________________________________________________\n",
            "lstm_3 (LSTM)                (None, 64)                49408     \n",
            "_________________________________________________________________\n",
            "dense_2 (Dense)              (None, 4082)              265330    \n",
            "_________________________________________________________________\n",
            "dense_3 (Dense)              (None, 8164)              33333612  \n",
            "=================================================================\n",
            "Total params: 34,549,230\n",
            "Trainable params: 34,549,230\n",
            "Non-trainable params: 0\n",
            "_________________________________________________________________\n",
            "None\n"
          ],
          "name": "stdout"
        }
      ]
    },
    {
      "cell_type": "markdown",
      "metadata": {
        "id": "pZdMuei8_T6t"
      },
      "source": [
        "## Checkpoints to save model every epoch the model does better."
      ]
    },
    {
      "cell_type": "code",
      "metadata": {
        "id": "RoyToqSvoJ54",
        "colab": {
          "base_uri": "https://localhost:8080/"
        },
        "outputId": "fc5968fb-6a32-4d71-8735-871339f13012"
      },
      "source": [
        "from google.colab import drive\n",
        "drive.mount('/content/drive')"
      ],
      "execution_count": 23,
      "outputs": [
        {
          "output_type": "stream",
          "text": [
            "Drive already mounted at /content/drive; to attempt to forcibly remount, call drive.mount(\"/content/drive\", force_remount=True).\n"
          ],
          "name": "stdout"
        }
      ]
    },
    {
      "cell_type": "code",
      "metadata": {
        "id": "0ukDhugA9L8J",
        "trusted": true
      },
      "source": [
        "from keras.callbacks import ModelCheckpoint\n",
        "\n",
        "filepath = \"/content/drive/MyDrive/Text-Generator/model_training.hdf5\"\n",
        "checkpoint = ModelCheckpoint(filepath, monitor='loss',\n",
        "                             verbose=1, save_best_only=True,\n",
        "                             mode='min')\n",
        "callbacks = [checkpoint]"
      ],
      "execution_count": 24,
      "outputs": []
    },
    {
      "cell_type": "markdown",
      "metadata": {
        "id": "yt87zrWA_axO"
      },
      "source": [
        "## Training the model"
      ]
    },
    {
      "cell_type": "code",
      "metadata": {
        "id": "RiDIPvwi6hg0",
        "trusted": true,
        "outputId": "708e4fc6-e0ab-4f22-cdcd-81de17152083",
        "colab": {
          "base_uri": "https://localhost:8080/"
        }
      },
      "source": [
        "history = model.fit(predictors, label, epochs=125, verbose=1,callbacks=callbacks)"
      ],
      "execution_count": 25,
      "outputs": [
        {
          "output_type": "stream",
          "text": [
            "Epoch 1/125\n",
            "3208/3208 [==============================] - 111s 30ms/step - loss: 6.6794 - accuracy: 0.0569\n",
            "\n",
            "Epoch 00001: loss improved from inf to 6.42600, saving model to /content/drive/MyDrive/Text-Generator/model_training.hdf5\n",
            "Epoch 2/125\n",
            "3208/3208 [==============================] - 115s 36ms/step - loss: 5.8845 - accuracy: 0.0938\n",
            "\n",
            "Epoch 00002: loss improved from 6.42600 to 5.83888, saving model to /content/drive/MyDrive/Text-Generator/model_training.hdf5\n",
            "Epoch 3/125\n",
            "3208/3208 [==============================] - 112s 35ms/step - loss: 5.5657 - accuracy: 0.1168\n",
            "\n",
            "Epoch 00003: loss improved from 5.83888 to 5.54502, saving model to /content/drive/MyDrive/Text-Generator/model_training.hdf5\n",
            "Epoch 4/125\n",
            "3208/3208 [==============================] - 113s 35ms/step - loss: 5.3504 - accuracy: 0.1326\n",
            "\n",
            "Epoch 00004: loss improved from 5.54502 to 5.35898, saving model to /content/drive/MyDrive/Text-Generator/model_training.hdf5\n",
            "Epoch 5/125\n",
            "3208/3208 [==============================] - 112s 35ms/step - loss: 5.1998 - accuracy: 0.1442\n",
            "\n",
            "Epoch 00005: loss improved from 5.35898 to 5.21864, saving model to /content/drive/MyDrive/Text-Generator/model_training.hdf5\n",
            "Epoch 6/125\n",
            "3208/3208 [==============================] - 106s 33ms/step - loss: 5.0809 - accuracy: 0.1516\n",
            "\n",
            "Epoch 00006: loss improved from 5.21864 to 5.09847, saving model to /content/drive/MyDrive/Text-Generator/model_training.hdf5\n",
            "Epoch 7/125\n",
            "3208/3208 [==============================] - 110s 34ms/step - loss: 4.9743 - accuracy: 0.1593\n",
            "\n",
            "Epoch 00007: loss improved from 5.09847 to 4.99352, saving model to /content/drive/MyDrive/Text-Generator/model_training.hdf5\n",
            "Epoch 8/125\n",
            "3208/3208 [==============================] - 111s 35ms/step - loss: 4.8801 - accuracy: 0.1650\n",
            "\n",
            "Epoch 00008: loss improved from 4.99352 to 4.89848, saving model to /content/drive/MyDrive/Text-Generator/model_training.hdf5\n",
            "Epoch 9/125\n",
            "3208/3208 [==============================] - 115s 36ms/step - loss: 4.7873 - accuracy: 0.1719\n",
            "\n",
            "Epoch 00009: loss improved from 4.89848 to 4.80884, saving model to /content/drive/MyDrive/Text-Generator/model_training.hdf5\n",
            "Epoch 10/125\n",
            "3208/3208 [==============================] - 116s 36ms/step - loss: 4.7108 - accuracy: 0.1758\n",
            "\n",
            "Epoch 00010: loss improved from 4.80884 to 4.72867, saving model to /content/drive/MyDrive/Text-Generator/model_training.hdf5\n",
            "Epoch 11/125\n",
            "3208/3208 [==============================] - 111s 35ms/step - loss: 4.6328 - accuracy: 0.1804\n",
            "\n",
            "Epoch 00011: loss improved from 4.72867 to 4.65672, saving model to /content/drive/MyDrive/Text-Generator/model_training.hdf5\n",
            "Epoch 12/125\n",
            "3208/3208 [==============================] - 111s 35ms/step - loss: 4.5589 - accuracy: 0.1851\n",
            "\n",
            "Epoch 00012: loss improved from 4.65672 to 4.58455, saving model to /content/drive/MyDrive/Text-Generator/model_training.hdf5\n",
            "Epoch 13/125\n",
            "3208/3208 [==============================] - 112s 35ms/step - loss: 4.4791 - accuracy: 0.1937\n",
            "\n",
            "Epoch 00013: loss improved from 4.58455 to 4.52003, saving model to /content/drive/MyDrive/Text-Generator/model_training.hdf5\n",
            "Epoch 14/125\n",
            "3208/3208 [==============================] - 112s 35ms/step - loss: 4.4342 - accuracy: 0.1985\n",
            "\n",
            "Epoch 00014: loss improved from 4.52003 to 4.45871, saving model to /content/drive/MyDrive/Text-Generator/model_training.hdf5\n",
            "Epoch 15/125\n",
            "3208/3208 [==============================] - 108s 34ms/step - loss: 4.3829 - accuracy: 0.1993\n",
            "\n",
            "Epoch 00015: loss improved from 4.45871 to 4.40017, saving model to /content/drive/MyDrive/Text-Generator/model_training.hdf5\n",
            "Epoch 16/125\n",
            "3208/3208 [==============================] - 106s 33ms/step - loss: 4.3170 - accuracy: 0.2066\n",
            "\n",
            "Epoch 00016: loss improved from 4.40017 to 4.34590, saving model to /content/drive/MyDrive/Text-Generator/model_training.hdf5\n",
            "Epoch 17/125\n",
            "3208/3208 [==============================] - 107s 33ms/step - loss: 4.2631 - accuracy: 0.2130\n",
            "\n",
            "Epoch 00017: loss improved from 4.34590 to 4.29071, saving model to /content/drive/MyDrive/Text-Generator/model_training.hdf5\n",
            "Epoch 18/125\n",
            "3208/3208 [==============================] - 106s 33ms/step - loss: 4.2074 - accuracy: 0.2188\n",
            "\n",
            "Epoch 00018: loss improved from 4.29071 to 4.24063, saving model to /content/drive/MyDrive/Text-Generator/model_training.hdf5\n",
            "Epoch 19/125\n",
            "3208/3208 [==============================] - 105s 33ms/step - loss: 4.1735 - accuracy: 0.2218\n",
            "\n",
            "Epoch 00019: loss improved from 4.24063 to 4.19336, saving model to /content/drive/MyDrive/Text-Generator/model_training.hdf5\n",
            "Epoch 20/125\n",
            "3208/3208 [==============================] - 105s 33ms/step - loss: 4.1104 - accuracy: 0.2295\n",
            "\n",
            "Epoch 00020: loss improved from 4.19336 to 4.14688, saving model to /content/drive/MyDrive/Text-Generator/model_training.hdf5\n",
            "Epoch 21/125\n",
            "3208/3208 [==============================] - 106s 33ms/step - loss: 4.0607 - accuracy: 0.2325\n",
            "\n",
            "Epoch 00021: loss improved from 4.14688 to 4.10405, saving model to /content/drive/MyDrive/Text-Generator/model_training.hdf5\n",
            "Epoch 22/125\n",
            "3208/3208 [==============================] - 106s 33ms/step - loss: 4.0387 - accuracy: 0.2359\n",
            "\n",
            "Epoch 00022: loss improved from 4.10405 to 4.06504, saving model to /content/drive/MyDrive/Text-Generator/model_training.hdf5\n",
            "Epoch 23/125\n",
            "3208/3208 [==============================] - 105s 33ms/step - loss: 3.9825 - accuracy: 0.2412\n",
            "\n",
            "Epoch 00023: loss improved from 4.06504 to 4.02297, saving model to /content/drive/MyDrive/Text-Generator/model_training.hdf5\n",
            "Epoch 24/125\n",
            "3208/3208 [==============================] - 104s 33ms/step - loss: 3.9426 - accuracy: 0.2484\n",
            "\n",
            "Epoch 00024: loss improved from 4.02297 to 3.98437, saving model to /content/drive/MyDrive/Text-Generator/model_training.hdf5\n",
            "Epoch 25/125\n",
            "3208/3208 [==============================] - 105s 33ms/step - loss: 3.8978 - accuracy: 0.2494\n",
            "\n",
            "Epoch 00025: loss improved from 3.98437 to 3.94609, saving model to /content/drive/MyDrive/Text-Generator/model_training.hdf5\n",
            "Epoch 26/125\n",
            "3208/3208 [==============================] - 105s 33ms/step - loss: 3.8697 - accuracy: 0.2535\n",
            "\n",
            "Epoch 00026: loss improved from 3.94609 to 3.91173, saving model to /content/drive/MyDrive/Text-Generator/model_training.hdf5\n",
            "Epoch 27/125\n",
            "3208/3208 [==============================] - 106s 33ms/step - loss: 3.8283 - accuracy: 0.2576\n",
            "\n",
            "Epoch 00027: loss improved from 3.91173 to 3.87681, saving model to /content/drive/MyDrive/Text-Generator/model_training.hdf5\n",
            "Epoch 28/125\n",
            "3208/3208 [==============================] - 105s 33ms/step - loss: 3.7995 - accuracy: 0.2630\n",
            "\n",
            "Epoch 00028: loss improved from 3.87681 to 3.84388, saving model to /content/drive/MyDrive/Text-Generator/model_training.hdf5\n",
            "Epoch 29/125\n",
            "3208/3208 [==============================] - 107s 33ms/step - loss: 3.7765 - accuracy: 0.2643\n",
            "\n",
            "Epoch 00029: loss improved from 3.84388 to 3.81185, saving model to /content/drive/MyDrive/Text-Generator/model_training.hdf5\n",
            "Epoch 30/125\n",
            "3208/3208 [==============================] - 107s 33ms/step - loss: 3.7354 - accuracy: 0.2689\n",
            "\n",
            "Epoch 00030: loss improved from 3.81185 to 3.78284, saving model to /content/drive/MyDrive/Text-Generator/model_training.hdf5\n",
            "Epoch 31/125\n",
            "3208/3208 [==============================] - 107s 33ms/step - loss: 3.7130 - accuracy: 0.2725\n",
            "\n",
            "Epoch 00031: loss improved from 3.78284 to 3.74817, saving model to /content/drive/MyDrive/Text-Generator/model_training.hdf5\n",
            "Epoch 32/125\n",
            "3208/3208 [==============================] - 108s 34ms/step - loss: 3.6779 - accuracy: 0.2767\n",
            "\n",
            "Epoch 00032: loss improved from 3.74817 to 3.72069, saving model to /content/drive/MyDrive/Text-Generator/model_training.hdf5\n",
            "Epoch 33/125\n",
            "3208/3208 [==============================] - 106s 33ms/step - loss: 3.6602 - accuracy: 0.2781\n",
            "\n",
            "Epoch 00033: loss improved from 3.72069 to 3.69600, saving model to /content/drive/MyDrive/Text-Generator/model_training.hdf5\n",
            "Epoch 34/125\n",
            "3208/3208 [==============================] - 108s 34ms/step - loss: 3.6336 - accuracy: 0.2837\n",
            "\n",
            "Epoch 00034: loss improved from 3.69600 to 3.67036, saving model to /content/drive/MyDrive/Text-Generator/model_training.hdf5\n",
            "Epoch 35/125\n",
            "3208/3208 [==============================] - 109s 34ms/step - loss: 3.5899 - accuracy: 0.2911\n",
            "\n",
            "Epoch 00035: loss improved from 3.67036 to 3.64420, saving model to /content/drive/MyDrive/Text-Generator/model_training.hdf5\n",
            "Epoch 36/125\n",
            "3208/3208 [==============================] - 108s 34ms/step - loss: 3.5657 - accuracy: 0.2931\n",
            "\n",
            "Epoch 00036: loss improved from 3.64420 to 3.61474, saving model to /content/drive/MyDrive/Text-Generator/model_training.hdf5\n",
            "Epoch 37/125\n",
            "3208/3208 [==============================] - 109s 34ms/step - loss: 3.5713 - accuracy: 0.2930\n",
            "\n",
            "Epoch 00037: loss improved from 3.61474 to 3.59691, saving model to /content/drive/MyDrive/Text-Generator/model_training.hdf5\n",
            "Epoch 38/125\n",
            "3208/3208 [==============================] - 109s 34ms/step - loss: 3.5282 - accuracy: 0.2977\n",
            "\n",
            "Epoch 00038: loss improved from 3.59691 to 3.57155, saving model to /content/drive/MyDrive/Text-Generator/model_training.hdf5\n",
            "Epoch 39/125\n",
            "3208/3208 [==============================] - 109s 34ms/step - loss: 3.5279 - accuracy: 0.2978\n",
            "\n",
            "Epoch 00039: loss improved from 3.57155 to 3.55061, saving model to /content/drive/MyDrive/Text-Generator/model_training.hdf5\n",
            "Epoch 40/125\n",
            "3208/3208 [==============================] - 108s 34ms/step - loss: 3.4865 - accuracy: 0.3049\n",
            "\n",
            "Epoch 00040: loss improved from 3.55061 to 3.52744, saving model to /content/drive/MyDrive/Text-Generator/model_training.hdf5\n",
            "Epoch 41/125\n",
            "3208/3208 [==============================] - 109s 34ms/step - loss: 3.4790 - accuracy: 0.3047\n",
            "\n",
            "Epoch 00041: loss improved from 3.52744 to 3.50531, saving model to /content/drive/MyDrive/Text-Generator/model_training.hdf5\n",
            "Epoch 42/125\n",
            "3208/3208 [==============================] - 108s 34ms/step - loss: 3.4316 - accuracy: 0.3128\n",
            "\n",
            "Epoch 00042: loss improved from 3.50531 to 3.48861, saving model to /content/drive/MyDrive/Text-Generator/model_training.hdf5\n",
            "Epoch 43/125\n",
            "3208/3208 [==============================] - 108s 34ms/step - loss: 3.4368 - accuracy: 0.3124\n",
            "\n",
            "Epoch 00043: loss improved from 3.48861 to 3.46366, saving model to /content/drive/MyDrive/Text-Generator/model_training.hdf5\n",
            "Epoch 44/125\n",
            "3208/3208 [==============================] - 108s 34ms/step - loss: 3.4018 - accuracy: 0.3169\n",
            "\n",
            "Epoch 00044: loss improved from 3.46366 to 3.44824, saving model to /content/drive/MyDrive/Text-Generator/model_training.hdf5\n",
            "Epoch 45/125\n",
            "3208/3208 [==============================] - 107s 33ms/step - loss: 3.3837 - accuracy: 0.3190\n",
            "\n",
            "Epoch 00045: loss improved from 3.44824 to 3.42472, saving model to /content/drive/MyDrive/Text-Generator/model_training.hdf5\n",
            "Epoch 46/125\n",
            "3208/3208 [==============================] - 108s 34ms/step - loss: 3.3678 - accuracy: 0.3211\n",
            "\n",
            "Epoch 00046: loss improved from 3.42472 to 3.41289, saving model to /content/drive/MyDrive/Text-Generator/model_training.hdf5\n",
            "Epoch 47/125\n",
            "3208/3208 [==============================] - 107s 34ms/step - loss: 3.3521 - accuracy: 0.3230\n",
            "\n",
            "Epoch 00047: loss improved from 3.41289 to 3.38961, saving model to /content/drive/MyDrive/Text-Generator/model_training.hdf5\n",
            "Epoch 48/125\n",
            "3208/3208 [==============================] - 110s 34ms/step - loss: 3.3330 - accuracy: 0.3285\n",
            "\n",
            "Epoch 00048: loss improved from 3.38961 to 3.37282, saving model to /content/drive/MyDrive/Text-Generator/model_training.hdf5\n",
            "Epoch 49/125\n",
            "3208/3208 [==============================] - 110s 34ms/step - loss: 3.3111 - accuracy: 0.3319\n",
            "\n",
            "Epoch 00049: loss improved from 3.37282 to 3.35464, saving model to /content/drive/MyDrive/Text-Generator/model_training.hdf5\n",
            "Epoch 50/125\n",
            "3208/3208 [==============================] - 110s 34ms/step - loss: 3.2963 - accuracy: 0.3335\n",
            "\n",
            "Epoch 00050: loss improved from 3.35464 to 3.33977, saving model to /content/drive/MyDrive/Text-Generator/model_training.hdf5\n",
            "Epoch 51/125\n",
            "3208/3208 [==============================] - 109s 34ms/step - loss: 3.2725 - accuracy: 0.3366\n",
            "\n",
            "Epoch 00051: loss improved from 3.33977 to 3.32395, saving model to /content/drive/MyDrive/Text-Generator/model_training.hdf5\n",
            "Epoch 52/125\n",
            "3208/3208 [==============================] - 109s 34ms/step - loss: 3.2660 - accuracy: 0.3381\n",
            "\n",
            "Epoch 00052: loss improved from 3.32395 to 3.30878, saving model to /content/drive/MyDrive/Text-Generator/model_training.hdf5\n",
            "Epoch 53/125\n",
            "3208/3208 [==============================] - 109s 34ms/step - loss: 3.2381 - accuracy: 0.3444\n",
            "\n",
            "Epoch 00053: loss improved from 3.30878 to 3.29332, saving model to /content/drive/MyDrive/Text-Generator/model_training.hdf5\n",
            "Epoch 54/125\n",
            "3208/3208 [==============================] - 109s 34ms/step - loss: 3.2219 - accuracy: 0.3454\n",
            "\n",
            "Epoch 00054: loss improved from 3.29332 to 3.27428, saving model to /content/drive/MyDrive/Text-Generator/model_training.hdf5\n",
            "Epoch 55/125\n",
            "3208/3208 [==============================] - 109s 34ms/step - loss: 3.2142 - accuracy: 0.3460\n",
            "\n",
            "Epoch 00055: loss improved from 3.27428 to 3.25911, saving model to /content/drive/MyDrive/Text-Generator/model_training.hdf5\n",
            "Epoch 56/125\n",
            "3208/3208 [==============================] - 110s 34ms/step - loss: 3.2035 - accuracy: 0.3481\n",
            "\n",
            "Epoch 00056: loss improved from 3.25911 to 3.24444, saving model to /content/drive/MyDrive/Text-Generator/model_training.hdf5\n",
            "Epoch 57/125\n",
            "3208/3208 [==============================] - 109s 34ms/step - loss: 3.1916 - accuracy: 0.3497\n",
            "\n",
            "Epoch 00057: loss improved from 3.24444 to 3.23606, saving model to /content/drive/MyDrive/Text-Generator/model_training.hdf5\n",
            "Epoch 58/125\n",
            "3208/3208 [==============================] - 110s 34ms/step - loss: 3.1667 - accuracy: 0.3526\n",
            "\n",
            "Epoch 00058: loss improved from 3.23606 to 3.21731, saving model to /content/drive/MyDrive/Text-Generator/model_training.hdf5\n",
            "Epoch 59/125\n",
            "3208/3208 [==============================] - 110s 34ms/step - loss: 3.1720 - accuracy: 0.3518\n",
            "\n",
            "Epoch 00059: loss improved from 3.21731 to 3.20935, saving model to /content/drive/MyDrive/Text-Generator/model_training.hdf5\n",
            "Epoch 60/125\n",
            "3208/3208 [==============================] - 111s 35ms/step - loss: 3.1504 - accuracy: 0.3559\n",
            "\n",
            "Epoch 00060: loss improved from 3.20935 to 3.19403, saving model to /content/drive/MyDrive/Text-Generator/model_training.hdf5\n",
            "Epoch 61/125\n",
            "3208/3208 [==============================] - 111s 35ms/step - loss: 3.1353 - accuracy: 0.3588\n",
            "\n",
            "Epoch 00061: loss improved from 3.19403 to 3.18121, saving model to /content/drive/MyDrive/Text-Generator/model_training.hdf5\n",
            "Epoch 62/125\n",
            "3208/3208 [==============================] - 110s 34ms/step - loss: 3.1163 - accuracy: 0.3621\n",
            "\n",
            "Epoch 00062: loss improved from 3.18121 to 3.16780, saving model to /content/drive/MyDrive/Text-Generator/model_training.hdf5\n",
            "Epoch 63/125\n",
            "3208/3208 [==============================] - 109s 34ms/step - loss: 3.1104 - accuracy: 0.3625\n",
            "\n",
            "Epoch 00063: loss improved from 3.16780 to 3.15382, saving model to /content/drive/MyDrive/Text-Generator/model_training.hdf5\n",
            "Epoch 64/125\n",
            "3208/3208 [==============================] - 110s 34ms/step - loss: 3.0944 - accuracy: 0.3655\n",
            "\n",
            "Epoch 00064: loss improved from 3.15382 to 3.13962, saving model to /content/drive/MyDrive/Text-Generator/model_training.hdf5\n",
            "Epoch 65/125\n",
            "3208/3208 [==============================] - 111s 35ms/step - loss: 3.0971 - accuracy: 0.3645\n",
            "\n",
            "Epoch 00065: loss improved from 3.13962 to 3.13286, saving model to /content/drive/MyDrive/Text-Generator/model_training.hdf5\n",
            "Epoch 66/125\n",
            "3208/3208 [==============================] - 110s 34ms/step - loss: 3.0827 - accuracy: 0.3671\n",
            "\n",
            "Epoch 00066: loss improved from 3.13286 to 3.11719, saving model to /content/drive/MyDrive/Text-Generator/model_training.hdf5\n",
            "Epoch 67/125\n",
            "3208/3208 [==============================] - 110s 34ms/step - loss: 3.0538 - accuracy: 0.3726\n",
            "\n",
            "Epoch 00067: loss improved from 3.11719 to 3.10642, saving model to /content/drive/MyDrive/Text-Generator/model_training.hdf5\n",
            "Epoch 68/125\n",
            "3208/3208 [==============================] - 113s 35ms/step - loss: 3.0467 - accuracy: 0.3727\n",
            "\n",
            "Epoch 00068: loss improved from 3.10642 to 3.09458, saving model to /content/drive/MyDrive/Text-Generator/model_training.hdf5\n",
            "Epoch 69/125\n",
            "3208/3208 [==============================] - 113s 35ms/step - loss: 3.0343 - accuracy: 0.3761\n",
            "\n",
            "Epoch 00069: loss improved from 3.09458 to 3.08097, saving model to /content/drive/MyDrive/Text-Generator/model_training.hdf5\n",
            "Epoch 70/125\n",
            "3208/3208 [==============================] - 113s 35ms/step - loss: 3.0250 - accuracy: 0.3746\n",
            "\n",
            "Epoch 00070: loss improved from 3.08097 to 3.07144, saving model to /content/drive/MyDrive/Text-Generator/model_training.hdf5\n",
            "Epoch 71/125\n",
            "3208/3208 [==============================] - 114s 36ms/step - loss: 3.0162 - accuracy: 0.3772\n",
            "\n",
            "Epoch 00071: loss improved from 3.07144 to 3.06067, saving model to /content/drive/MyDrive/Text-Generator/model_training.hdf5\n",
            "Epoch 72/125\n",
            "3208/3208 [==============================] - 113s 35ms/step - loss: 3.0034 - accuracy: 0.3801\n",
            "\n",
            "Epoch 00072: loss improved from 3.06067 to 3.04975, saving model to /content/drive/MyDrive/Text-Generator/model_training.hdf5\n",
            "Epoch 73/125\n",
            "3208/3208 [==============================] - 114s 35ms/step - loss: 2.9941 - accuracy: 0.3834\n",
            "\n",
            "Epoch 00073: loss improved from 3.04975 to 3.04250, saving model to /content/drive/MyDrive/Text-Generator/model_training.hdf5\n",
            "Epoch 74/125\n",
            "3208/3208 [==============================] - 114s 36ms/step - loss: 2.9834 - accuracy: 0.3814\n",
            "\n",
            "Epoch 00074: loss improved from 3.04250 to 3.03170, saving model to /content/drive/MyDrive/Text-Generator/model_training.hdf5\n",
            "Epoch 75/125\n",
            "3208/3208 [==============================] - 113s 35ms/step - loss: 2.9770 - accuracy: 0.3819\n",
            "\n",
            "Epoch 00075: loss improved from 3.03170 to 3.02161, saving model to /content/drive/MyDrive/Text-Generator/model_training.hdf5\n",
            "Epoch 76/125\n",
            "3208/3208 [==============================] - 114s 35ms/step - loss: 2.9654 - accuracy: 0.3859\n",
            "\n",
            "Epoch 00076: loss improved from 3.02161 to 3.00965, saving model to /content/drive/MyDrive/Text-Generator/model_training.hdf5\n",
            "Epoch 77/125\n",
            "3208/3208 [==============================] - 114s 36ms/step - loss: 2.9553 - accuracy: 0.3885\n",
            "\n",
            "Epoch 00077: loss improved from 3.00965 to 3.00120, saving model to /content/drive/MyDrive/Text-Generator/model_training.hdf5\n",
            "Epoch 78/125\n",
            "3208/3208 [==============================] - 113s 35ms/step - loss: 2.9480 - accuracy: 0.3882\n",
            "\n",
            "Epoch 00078: loss improved from 3.00120 to 2.98897, saving model to /content/drive/MyDrive/Text-Generator/model_training.hdf5\n",
            "Epoch 79/125\n",
            "3208/3208 [==============================] - 114s 36ms/step - loss: 2.9454 - accuracy: 0.3850\n",
            "\n",
            "Epoch 00079: loss improved from 2.98897 to 2.98189, saving model to /content/drive/MyDrive/Text-Generator/model_training.hdf5\n",
            "Epoch 80/125\n",
            "3208/3208 [==============================] - 114s 35ms/step - loss: 2.9312 - accuracy: 0.3928\n",
            "\n",
            "Epoch 00080: loss improved from 2.98189 to 2.97815, saving model to /content/drive/MyDrive/Text-Generator/model_training.hdf5\n",
            "Epoch 81/125\n",
            "3208/3208 [==============================] - 113s 35ms/step - loss: 2.9250 - accuracy: 0.3922\n",
            "\n",
            "Epoch 00081: loss improved from 2.97815 to 2.96657, saving model to /content/drive/MyDrive/Text-Generator/model_training.hdf5\n",
            "Epoch 82/125\n",
            "3208/3208 [==============================] - 114s 36ms/step - loss: 2.9302 - accuracy: 0.3925\n",
            "\n",
            "Epoch 00082: loss improved from 2.96657 to 2.95618, saving model to /content/drive/MyDrive/Text-Generator/model_training.hdf5\n",
            "Epoch 83/125\n",
            "3208/3208 [==============================] - 114s 36ms/step - loss: 2.8899 - accuracy: 0.3984\n",
            "\n",
            "Epoch 00083: loss improved from 2.95618 to 2.94722, saving model to /content/drive/MyDrive/Text-Generator/model_training.hdf5\n",
            "Epoch 84/125\n",
            "3208/3208 [==============================] - 113s 35ms/step - loss: 2.8881 - accuracy: 0.3985\n",
            "\n",
            "Epoch 00084: loss improved from 2.94722 to 2.94125, saving model to /content/drive/MyDrive/Text-Generator/model_training.hdf5\n",
            "Epoch 85/125\n",
            "3208/3208 [==============================] - 115s 36ms/step - loss: 2.8938 - accuracy: 0.3983\n",
            "\n",
            "Epoch 00085: loss improved from 2.94125 to 2.93804, saving model to /content/drive/MyDrive/Text-Generator/model_training.hdf5\n",
            "Epoch 86/125\n",
            "3208/3208 [==============================] - 114s 36ms/step - loss: 2.8885 - accuracy: 0.3981\n",
            "\n",
            "Epoch 00086: loss improved from 2.93804 to 2.92638, saving model to /content/drive/MyDrive/Text-Generator/model_training.hdf5\n",
            "Epoch 87/125\n",
            "3208/3208 [==============================] - 114s 36ms/step - loss: 2.8747 - accuracy: 0.4008\n",
            "\n",
            "Epoch 00087: loss improved from 2.92638 to 2.91712, saving model to /content/drive/MyDrive/Text-Generator/model_training.hdf5\n",
            "Epoch 88/125\n",
            "3208/3208 [==============================] - 115s 36ms/step - loss: 2.8565 - accuracy: 0.4036\n",
            "\n",
            "Epoch 00088: loss improved from 2.91712 to 2.90780, saving model to /content/drive/MyDrive/Text-Generator/model_training.hdf5\n",
            "Epoch 89/125\n",
            "3208/3208 [==============================] - 113s 35ms/step - loss: 2.8517 - accuracy: 0.4045\n",
            "\n",
            "Epoch 00089: loss improved from 2.90780 to 2.89922, saving model to /content/drive/MyDrive/Text-Generator/model_training.hdf5\n",
            "Epoch 90/125\n",
            "3208/3208 [==============================] - 115s 36ms/step - loss: 2.8522 - accuracy: 0.4038\n",
            "\n",
            "Epoch 00090: loss improved from 2.89922 to 2.88998, saving model to /content/drive/MyDrive/Text-Generator/model_training.hdf5\n",
            "Epoch 91/125\n",
            "3208/3208 [==============================] - 114s 36ms/step - loss: 2.8425 - accuracy: 0.4058\n",
            "\n",
            "Epoch 00091: loss improved from 2.88998 to 2.88454, saving model to /content/drive/MyDrive/Text-Generator/model_training.hdf5\n",
            "Epoch 92/125\n",
            "3208/3208 [==============================] - 115s 36ms/step - loss: 2.8283 - accuracy: 0.4077\n",
            "\n",
            "Epoch 00092: loss improved from 2.88454 to 2.87656, saving model to /content/drive/MyDrive/Text-Generator/model_training.hdf5\n",
            "Epoch 93/125\n",
            "3208/3208 [==============================] - 111s 35ms/step - loss: 2.8207 - accuracy: 0.4088\n",
            "\n",
            "Epoch 00093: loss improved from 2.87656 to 2.87042, saving model to /content/drive/MyDrive/Text-Generator/model_training.hdf5\n",
            "Epoch 94/125\n",
            "3208/3208 [==============================] - 111s 35ms/step - loss: 2.8273 - accuracy: 0.4087\n",
            "\n",
            "Epoch 00094: loss improved from 2.87042 to 2.86398, saving model to /content/drive/MyDrive/Text-Generator/model_training.hdf5\n",
            "Epoch 95/125\n",
            "3208/3208 [==============================] - 112s 35ms/step - loss: 2.8012 - accuracy: 0.4126\n",
            "\n",
            "Epoch 00095: loss improved from 2.86398 to 2.85855, saving model to /content/drive/MyDrive/Text-Generator/model_training.hdf5\n",
            "Epoch 96/125\n",
            "3208/3208 [==============================] - 111s 35ms/step - loss: 2.8013 - accuracy: 0.4124\n",
            "\n",
            "Epoch 00096: loss improved from 2.85855 to 2.84530, saving model to /content/drive/MyDrive/Text-Generator/model_training.hdf5\n",
            "Epoch 97/125\n",
            "3208/3208 [==============================] - 112s 35ms/step - loss: 2.7990 - accuracy: 0.4132\n",
            "\n",
            "Epoch 00097: loss improved from 2.84530 to 2.84324, saving model to /content/drive/MyDrive/Text-Generator/model_training.hdf5\n",
            "Epoch 98/125\n",
            "3208/3208 [==============================] - 113s 35ms/step - loss: 2.7954 - accuracy: 0.4139\n",
            "\n",
            "Epoch 00098: loss improved from 2.84324 to 2.83534, saving model to /content/drive/MyDrive/Text-Generator/model_training.hdf5\n",
            "Epoch 99/125\n",
            "3208/3208 [==============================] - 113s 35ms/step - loss: 2.7939 - accuracy: 0.4129\n",
            "\n",
            "Epoch 00099: loss improved from 2.83534 to 2.82738, saving model to /content/drive/MyDrive/Text-Generator/model_training.hdf5\n",
            "Epoch 100/125\n",
            "3208/3208 [==============================] - 117s 36ms/step - loss: 2.7827 - accuracy: 0.4142\n",
            "\n",
            "Epoch 00100: loss improved from 2.82738 to 2.82156, saving model to /content/drive/MyDrive/Text-Generator/model_training.hdf5\n",
            "Epoch 101/125\n",
            "3208/3208 [==============================] - 118s 37ms/step - loss: 2.7669 - accuracy: 0.4170\n",
            "\n",
            "Epoch 00101: loss improved from 2.82156 to 2.81546, saving model to /content/drive/MyDrive/Text-Generator/model_training.hdf5\n",
            "Epoch 102/125\n",
            "3208/3208 [==============================] - 117s 37ms/step - loss: 2.7681 - accuracy: 0.4164\n",
            "\n",
            "Epoch 00102: loss improved from 2.81546 to 2.80867, saving model to /content/drive/MyDrive/Text-Generator/model_training.hdf5\n",
            "Epoch 103/125\n",
            "3208/3208 [==============================] - 119s 37ms/step - loss: 2.7683 - accuracy: 0.4178\n",
            "\n",
            "Epoch 00103: loss improved from 2.80867 to 2.80098, saving model to /content/drive/MyDrive/Text-Generator/model_training.hdf5\n",
            "Epoch 104/125\n",
            "3208/3208 [==============================] - 114s 36ms/step - loss: 2.7397 - accuracy: 0.4236\n",
            "\n",
            "Epoch 00104: loss improved from 2.80098 to 2.79088, saving model to /content/drive/MyDrive/Text-Generator/model_training.hdf5\n",
            "Epoch 105/125\n",
            "3208/3208 [==============================] - 113s 35ms/step - loss: 2.7433 - accuracy: 0.4226\n",
            "\n",
            "Epoch 00105: loss improved from 2.79088 to 2.78955, saving model to /content/drive/MyDrive/Text-Generator/model_training.hdf5\n",
            "Epoch 106/125\n",
            "3208/3208 [==============================] - 114s 36ms/step - loss: 2.7257 - accuracy: 0.4249\n",
            "\n",
            "Epoch 00106: loss improved from 2.78955 to 2.77870, saving model to /content/drive/MyDrive/Text-Generator/model_training.hdf5\n",
            "Epoch 107/125\n",
            "3208/3208 [==============================] - 114s 36ms/step - loss: 2.7549 - accuracy: 0.4212\n",
            "\n",
            "Epoch 00107: loss did not improve from 2.77870\n",
            "Epoch 108/125\n",
            "3208/3208 [==============================] - 114s 36ms/step - loss: 2.7288 - accuracy: 0.4222\n",
            "\n",
            "Epoch 00108: loss improved from 2.77870 to 2.77525, saving model to /content/drive/MyDrive/Text-Generator/model_training.hdf5\n",
            "Epoch 109/125\n",
            "3208/3208 [==============================] - 118s 37ms/step - loss: 2.7108 - accuracy: 0.4277\n",
            "\n",
            "Epoch 00109: loss improved from 2.77525 to 2.76346, saving model to /content/drive/MyDrive/Text-Generator/model_training.hdf5\n",
            "Epoch 110/125\n",
            "3208/3208 [==============================] - 118s 37ms/step - loss: 2.7145 - accuracy: 0.4276\n",
            "\n",
            "Epoch 00110: loss improved from 2.76346 to 2.75738, saving model to /content/drive/MyDrive/Text-Generator/model_training.hdf5\n",
            "Epoch 111/125\n",
            "3208/3208 [==============================] - 118s 37ms/step - loss: 2.7178 - accuracy: 0.4244\n",
            "\n",
            "Epoch 00111: loss improved from 2.75738 to 2.75095, saving model to /content/drive/MyDrive/Text-Generator/model_training.hdf5\n",
            "Epoch 112/125\n",
            "3208/3208 [==============================] - 116s 36ms/step - loss: 2.6993 - accuracy: 0.4305\n",
            "\n",
            "Epoch 00112: loss improved from 2.75095 to 2.75085, saving model to /content/drive/MyDrive/Text-Generator/model_training.hdf5\n",
            "Epoch 113/125\n",
            "3208/3208 [==============================] - 114s 35ms/step - loss: 2.7146 - accuracy: 0.4245\n",
            "\n",
            "Epoch 00113: loss improved from 2.75085 to 2.74636, saving model to /content/drive/MyDrive/Text-Generator/model_training.hdf5\n",
            "Epoch 114/125\n",
            "3208/3208 [==============================] - 113s 35ms/step - loss: 2.6872 - accuracy: 0.4321\n",
            "\n",
            "Epoch 00114: loss improved from 2.74636 to 2.73452, saving model to /content/drive/MyDrive/Text-Generator/model_training.hdf5\n",
            "Epoch 115/125\n",
            "3208/3208 [==============================] - 115s 36ms/step - loss: 2.6867 - accuracy: 0.4312\n",
            "\n",
            "Epoch 00115: loss improved from 2.73452 to 2.72859, saving model to /content/drive/MyDrive/Text-Generator/model_training.hdf5\n",
            "Epoch 116/125\n",
            "3208/3208 [==============================] - 115s 36ms/step - loss: 2.6775 - accuracy: 0.4343\n",
            "\n",
            "Epoch 00116: loss improved from 2.72859 to 2.72227, saving model to /content/drive/MyDrive/Text-Generator/model_training.hdf5\n",
            "Epoch 117/125\n",
            "3208/3208 [==============================] - 111s 35ms/step - loss: 2.6817 - accuracy: 0.4338\n",
            "\n",
            "Epoch 00117: loss did not improve from 2.72227\n",
            "Epoch 118/125\n",
            "3208/3208 [==============================] - 110s 34ms/step - loss: 2.6689 - accuracy: 0.4352\n",
            "\n",
            "Epoch 00118: loss improved from 2.72227 to 2.71703, saving model to /content/drive/MyDrive/Text-Generator/model_training.hdf5\n",
            "Epoch 119/125\n",
            "3208/3208 [==============================] - 112s 35ms/step - loss: 2.6685 - accuracy: 0.4363\n",
            "\n",
            "Epoch 00119: loss improved from 2.71703 to 2.70594, saving model to /content/drive/MyDrive/Text-Generator/model_training.hdf5\n",
            "Epoch 120/125\n",
            "3208/3208 [==============================] - 111s 35ms/step - loss: 2.6648 - accuracy: 0.4360\n",
            "\n",
            "Epoch 00120: loss did not improve from 2.70594\n",
            "Epoch 121/125\n",
            "3208/3208 [==============================] - 111s 35ms/step - loss: 2.6469 - accuracy: 0.4417\n",
            "\n",
            "Epoch 00121: loss improved from 2.70594 to 2.69846, saving model to /content/drive/MyDrive/Text-Generator/model_training.hdf5\n",
            "Epoch 122/125\n",
            "3208/3208 [==============================] - 112s 35ms/step - loss: 2.6591 - accuracy: 0.4346\n",
            "\n",
            "Epoch 00122: loss improved from 2.69846 to 2.69643, saving model to /content/drive/MyDrive/Text-Generator/model_training.hdf5\n",
            "Epoch 123/125\n",
            "3208/3208 [==============================] - 112s 35ms/step - loss: 2.6444 - accuracy: 0.4402\n",
            "\n",
            "Epoch 00123: loss improved from 2.69643 to 2.69331, saving model to /content/drive/MyDrive/Text-Generator/model_training.hdf5\n",
            "Epoch 124/125\n",
            "3208/3208 [==============================] - 112s 35ms/step - loss: 2.6562 - accuracy: 0.4365\n",
            "\n",
            "Epoch 00124: loss improved from 2.69331 to 2.68183, saving model to /content/drive/MyDrive/Text-Generator/model_training.hdf5\n",
            "Epoch 125/125\n",
            "3208/3208 [==============================] - 112s 35ms/step - loss: 2.6256 - accuracy: 0.4451\n",
            "\n",
            "Epoch 00125: loss improved from 2.68183 to 2.67027, saving model to /content/drive/MyDrive/Text-Generator/model_training.hdf5\n"
          ],
          "name": "stdout"
        }
      ]
    },
    {
      "cell_type": "markdown",
      "metadata": {
        "id": "tU1_VqKC_gbH"
      },
      "source": [
        "## Saving final model"
      ]
    },
    {
      "cell_type": "code",
      "metadata": {
        "id": "qfH7mgCYCw6A"
      },
      "source": [
        "model.save(\"/content/drive/MyDrive/Text-Generator/model1.hdf5\")"
      ],
      "execution_count": 26,
      "outputs": []
    },
    {
      "cell_type": "markdown",
      "metadata": {
        "id": "rzZCCnhX-6Xh"
      },
      "source": [
        "##Loading Pre-trained model"
      ]
    },
    {
      "cell_type": "code",
      "metadata": {
        "trusted": true,
        "id": "8cPdEWrTS76K"
      },
      "source": [
        "from tensorflow import keras\n",
        "model = keras.models.load_model('/content/drive/MyDrive/Text-Generator/model1.hdf5')"
      ],
      "execution_count": 27,
      "outputs": []
    },
    {
      "cell_type": "markdown",
      "metadata": {
        "id": "MB300vpU_Bof"
      },
      "source": [
        "## Example prediction of trained model."
      ]
    },
    {
      "cell_type": "code",
      "metadata": {
        "id": "kdQggwItJ3fa",
        "trusted": true,
        "colab": {
          "base_uri": "https://localhost:8080/"
        },
        "outputId": "64df96e0-3b10-470a-a016-0bcbf415f269"
      },
      "source": [
        "seed_text = \"sherlock was indeed\"\n",
        "next_words = 10\n",
        "  \n",
        "for _ in range(next_words):\n",
        " token_list = tokenizer.texts_to_sequences([seed_text])[0]\n",
        " token_list = pad_sequences([token_list], maxlen=max_sequence_len-1, padding='pre')\n",
        " predicted = np.argmax(model.predict(token_list), axis=-1)\n",
        " output_word = \"\"\n",
        " for word, index in tokenizer.word_index.items():\n",
        "  if index == predicted:\n",
        "   output_word = word\n",
        "   break\n",
        " seed_text += \" \" + output_word\n",
        "print(seed_text)"
      ],
      "execution_count": 28,
      "outputs": [
        {
          "output_type": "stream",
          "text": [
            "sherlock was indeed the facts have been in the same source that you\n"
          ],
          "name": "stdout"
        }
      ]
    }
  ]
}