{
  "nbformat": 4,
  "nbformat_minor": 0,
  "metadata": {
    "kernelspec": {
      "language": "python",
      "display_name": "Python 3",
      "name": "python3"
    },
    "language_info": {
      "name": "python",
      "version": "3.7.9",
      "mimetype": "text/x-python",
      "codemirror_mode": {
        "name": "ipython",
        "version": 3
      },
      "pygments_lexer": "ipython3",
      "nbconvert_exporter": "python",
      "file_extension": ".py"
    },
    "colab": {
      "name": "word-level-text-generator-bilstm.ipynb",
      "provenance": [],
      "include_colab_link": true
    },
    "accelerator": "GPU"
  },
  "cells": [
    {
      "cell_type": "markdown",
      "metadata": {
        "id": "view-in-github",
        "colab_type": "text"
      },
      "source": [
        "<a href=\"https://colab.research.google.com/github/nikewinchester/Text-Generator-LSTM/blob/main/word-level-text-generator-bilstm.ipynb\" target=\"_parent\"><img src=\"https://colab.research.google.com/assets/colab-badge.svg\" alt=\"Open In Colab\"/></a>"
      ]
    },
    {
      "cell_type": "markdown",
      "metadata": {
        "id": "WflxlADe9E6W"
      },
      "source": [
        "## Importing required packages"
      ]
    },
    {
      "cell_type": "code",
      "metadata": {
        "id": "jdhdgnyBzxt1",
        "trusted": true
      },
      "source": [
        "from tensorflow.keras.preprocessing.sequence import pad_sequences\n",
        "from tensorflow.keras.layers import Embedding, LSTM, Dense, Dropout, Bidirectional\n",
        "from tensorflow.keras.preprocessing.text import Tokenizer\n",
        "from tensorflow.keras.models import Sequential\n",
        "from tensorflow.keras.optimizers import Adam\n",
        "from tensorflow.keras import regularizers\n",
        "import tensorflow.keras.utils as ku \n",
        "import numpy as np\n",
        "import re\n",
        "import tensorflow as tf"
      ],
      "execution_count": 2,
      "outputs": []
    },
    {
      "cell_type": "markdown",
      "metadata": {
        "id": "utbcQS559MNj"
      },
      "source": [
        "## Reading dataset (given text file) from github"
      ]
    },
    {
      "cell_type": "code",
      "metadata": {
        "id": "FBv9zhfCVeKc"
      },
      "source": [
        "import requests\n",
        "from bs4 import BeautifulSoup\n",
        "gitfile = requests.get('https://raw.githubusercontent.com/nikewinchester/Text-Generator-LSTM/main/NLP task.txt')\n",
        "data = str(BeautifulSoup(gitfile.content, \"html.parser\"))"
      ],
      "execution_count": 3,
      "outputs": []
    },
    {
      "cell_type": "markdown",
      "metadata": {
        "id": "IJYwxaNv9YA5"
      },
      "source": [
        "## Tokenizing the words by making a dictionary (using fit_on_texts) where each unique word is associated with a number"
      ]
    },
    {
      "cell_type": "code",
      "metadata": {
        "id": "_Ahf5Qakz-GU",
        "trusted": true,
        "colab": {
          "base_uri": "https://localhost:8080/"
        },
        "outputId": "ec6866fe-73bd-4f85-df88-d8935dc44111"
      },
      "source": [
        "tokenizer = Tokenizer()\n",
        "corpus = data.lower().split(\".\")\n",
        "for i in range(0,len(corpus)):\n",
        "  s = re.sub(' +',' ',(re.sub(r'[^\\w]', ' ', corpus[i])))\n",
        "  corpus[i] = s\n",
        "print(len(corpus))\n",
        "tokenizer.fit_on_texts(corpus)\n",
        "total_words = len(tokenizer.word_index) + 1"
      ],
      "execution_count": 4,
      "outputs": [
        {
          "output_type": "stream",
          "text": [
            "6417\n"
          ],
          "name": "stdout"
        }
      ]
    },
    {
      "cell_type": "markdown",
      "metadata": {
        "id": "T3bQmTdr9orF"
      },
      "source": [
        "## Converting sentences to respected vector list (using the numbers got from previous step). Creating n-gram sequences as inputs for all input sentences."
      ]
    },
    {
      "cell_type": "code",
      "metadata": {
        "id": "Vi8NT8W-0p9w",
        "trusted": true
      },
      "source": [
        "input_sequences = []\n",
        "for j in corpus:\n",
        " token_list = tokenizer.texts_to_sequences([j])[0]\n",
        " for i in range(1, len(token_list)):\n",
        "  n_gram_sequence = token_list[:i+1]\n",
        "  input_sequences.append(n_gram_sequence)"
      ],
      "execution_count": 5,
      "outputs": []
    },
    {
      "cell_type": "markdown",
      "metadata": {
        "id": "lIhhCWlr-B7Q"
      },
      "source": [
        "## Padding the input sequences to make it all of the same length. This will help the model learn better."
      ]
    },
    {
      "cell_type": "code",
      "metadata": {
        "id": "JW-ibCBj5JYS",
        "trusted": true
      },
      "source": [
        "max_sequence_len = max([len(x) for x in input_sequences])\n",
        "input_sequences = np.array(pad_sequences(input_sequences, maxlen=max_sequence_len, padding='pre'))"
      ],
      "execution_count": 6,
      "outputs": []
    },
    {
      "cell_type": "markdown",
      "metadata": {
        "id": "5R-Or8Tj-Uh7"
      },
      "source": [
        "## Creating input data and output data from given sequences. Further converts output labels into a standardized binary matrix using keras.utils.to_categorical"
      ]
    },
    {
      "cell_type": "code",
      "metadata": {
        "id": "-Yk5DPSjv8fL"
      },
      "source": [
        "predictors, label = input_sequences[:,:-1],input_sequences[:,-1]\n",
        "label = ku.to_categorical(label, num_classes=total_words)"
      ],
      "execution_count": 7,
      "outputs": []
    },
    {
      "cell_type": "markdown",
      "metadata": {
        "id": "mJZf7KTU_Hne"
      },
      "source": [
        "## Building model using Bidirectional LSTM. Added dropout to prevent overfitting."
      ]
    },
    {
      "cell_type": "code",
      "metadata": {
        "id": "5NBPXWIEzv1R",
        "trusted": true,
        "colab": {
          "base_uri": "https://localhost:8080/"
        },
        "outputId": "0ebacb8a-bc38-47f9-9b8f-b4c6cfb939ca"
      },
      "source": [
        "model = Sequential()\n",
        "model.add(Embedding(total_words, 100, input_length=max_sequence_len-1))\n",
        "model.add(Bidirectional(LSTM(64, return_sequences = True)))\n",
        "model.add(Dropout(0.2))\n",
        "model.add(LSTM(64))\n",
        "model.add(Dense(total_words/2, activation='relu', kernel_regularizer=regularizers.l2(0.01)))\n",
        "model.add(Dense(total_words, activation='softmax'))\n",
        "model.compile(loss='categorical_crossentropy', optimizer='adam', metrics=['accuracy'])\n",
        "print(model.summary())"
      ],
      "execution_count": 8,
      "outputs": [
        {
          "output_type": "stream",
          "text": [
            "Model: \"sequential\"\n",
            "_________________________________________________________________\n",
            "Layer (type)                 Output Shape              Param #   \n",
            "=================================================================\n",
            "embedding (Embedding)        (None, 104, 100)          816400    \n",
            "_________________________________________________________________\n",
            "bidirectional (Bidirectional (None, 104, 128)          84480     \n",
            "_________________________________________________________________\n",
            "dropout (Dropout)            (None, 104, 128)          0         \n",
            "_________________________________________________________________\n",
            "lstm_1 (LSTM)                (None, 64)                49408     \n",
            "_________________________________________________________________\n",
            "dense (Dense)                (None, 4082)              265330    \n",
            "_________________________________________________________________\n",
            "dense_1 (Dense)              (None, 8164)              33333612  \n",
            "=================================================================\n",
            "Total params: 34,549,230\n",
            "Trainable params: 34,549,230\n",
            "Non-trainable params: 0\n",
            "_________________________________________________________________\n",
            "None\n"
          ],
          "name": "stdout"
        }
      ]
    },
    {
      "cell_type": "markdown",
      "metadata": {
        "id": "pZdMuei8_T6t"
      },
      "source": [
        "## Checkpoints to save model every epoch the model does better."
      ]
    },
    {
      "cell_type": "code",
      "metadata": {
        "id": "RoyToqSvoJ54",
        "colab": {
          "base_uri": "https://localhost:8080/"
        },
        "outputId": "de54b0ef-86c3-401b-9ae7-2787c1eb698b"
      },
      "source": [
        "from google.colab import drive\n",
        "drive.mount('/content/drive')"
      ],
      "execution_count": 1,
      "outputs": [
        {
          "output_type": "stream",
          "text": [
            "Mounted at /content/drive\n"
          ],
          "name": "stdout"
        }
      ]
    },
    {
      "cell_type": "code",
      "metadata": {
        "id": "0ukDhugA9L8J",
        "trusted": true
      },
      "source": [
        "from keras.callbacks import ModelCheckpoint\n",
        "\n",
        "filepath = \"/content/drive/MyDrive/Text-Generator/model_training.hdf5\"\n",
        "checkpoint = ModelCheckpoint(filepath, monitor='loss',\n",
        "                             verbose=1, save_best_only=True,\n",
        "                             mode='min')\n",
        "callbacks = [checkpoint]"
      ],
      "execution_count": 9,
      "outputs": []
    },
    {
      "cell_type": "markdown",
      "metadata": {
        "id": "yt87zrWA_axO"
      },
      "source": [
        "## Training the model"
      ]
    },
    {
      "cell_type": "code",
      "metadata": {
        "id": "RiDIPvwi6hg0",
        "trusted": true,
        "colab": {
          "base_uri": "https://localhost:8080/"
        },
        "outputId": "691250b2-e6e5-4d29-edcf-a46c977e1164"
      },
      "source": [
        "history = model.fit(predictors, label, epochs=125, verbose=1,callbacks=callbacks)"
      ],
      "execution_count": 12,
      "outputs": [
        {
          "output_type": "stream",
          "text": [
            "Epoch 1/125\n",
            "3208/3208 [==============================] - 102s 31ms/step - loss: 2.6751 - accuracy: 0.4332\n",
            "\n",
            "Epoch 00001: loss improved from inf to 2.67509, saving model to /content/drive/MyDrive/Text-Generator/model_training.hdf5\n",
            "Epoch 2/125\n",
            "3208/3208 [==============================] - 99s 31ms/step - loss: 2.6651 - accuracy: 0.4326\n",
            "\n",
            "Epoch 00002: loss improved from 2.67509 to 2.66507, saving model to /content/drive/MyDrive/Text-Generator/model_training.hdf5\n",
            "Epoch 3/125\n",
            "3208/3208 [==============================] - 99s 31ms/step - loss: 2.6634 - accuracy: 0.4335\n",
            "\n",
            "Epoch 00003: loss improved from 2.66507 to 2.66343, saving model to /content/drive/MyDrive/Text-Generator/model_training.hdf5\n",
            "Epoch 4/125\n",
            "3208/3208 [==============================] - 99s 31ms/step - loss: 2.6645 - accuracy: 0.4337\n",
            "\n",
            "Epoch 00004: loss did not improve from 2.66343\n",
            "Epoch 5/125\n",
            "3208/3208 [==============================] - 97s 30ms/step - loss: 2.6532 - accuracy: 0.4347\n",
            "\n",
            "Epoch 00005: loss improved from 2.66343 to 2.65315, saving model to /content/drive/MyDrive/Text-Generator/model_training.hdf5\n",
            "Epoch 6/125\n",
            "3208/3208 [==============================] - 101s 31ms/step - loss: 2.6500 - accuracy: 0.4352\n",
            "\n",
            "Epoch 00006: loss improved from 2.65315 to 2.65002, saving model to /content/drive/MyDrive/Text-Generator/model_training.hdf5\n",
            "Epoch 7/125\n",
            "3208/3208 [==============================] - 106s 33ms/step - loss: 2.6453 - accuracy: 0.4374\n",
            "\n",
            "Epoch 00007: loss improved from 2.65002 to 2.64532, saving model to /content/drive/MyDrive/Text-Generator/model_training.hdf5\n",
            "Epoch 8/125\n",
            "3208/3208 [==============================] - 108s 34ms/step - loss: 2.6409 - accuracy: 0.4387\n",
            "\n",
            "Epoch 00008: loss improved from 2.64532 to 2.64085, saving model to /content/drive/MyDrive/Text-Generator/model_training.hdf5\n",
            "Epoch 9/125\n",
            "3208/3208 [==============================] - 108s 34ms/step - loss: 2.6348 - accuracy: 0.4397\n",
            "\n",
            "Epoch 00009: loss improved from 2.64085 to 2.63476, saving model to /content/drive/MyDrive/Text-Generator/model_training.hdf5\n",
            "Epoch 10/125\n",
            "3208/3208 [==============================] - 108s 34ms/step - loss: 2.6357 - accuracy: 0.4378\n",
            "\n",
            "Epoch 00010: loss did not improve from 2.63476\n",
            "Epoch 11/125\n",
            "3208/3208 [==============================] - 107s 33ms/step - loss: 2.6328 - accuracy: 0.4407\n",
            "\n",
            "Epoch 00011: loss improved from 2.63476 to 2.63277, saving model to /content/drive/MyDrive/Text-Generator/model_training.hdf5\n",
            "Epoch 12/125\n",
            "3208/3208 [==============================] - 107s 33ms/step - loss: 2.6200 - accuracy: 0.4405\n",
            "\n",
            "Epoch 00012: loss improved from 2.63277 to 2.62000, saving model to /content/drive/MyDrive/Text-Generator/model_training.hdf5\n",
            "Epoch 13/125\n",
            "3208/3208 [==============================] - 107s 33ms/step - loss: 2.6186 - accuracy: 0.4418\n",
            "\n",
            "Epoch 00013: loss improved from 2.62000 to 2.61856, saving model to /content/drive/MyDrive/Text-Generator/model_training.hdf5\n",
            "Epoch 14/125\n",
            "3208/3208 [==============================] - 107s 33ms/step - loss: 2.6190 - accuracy: 0.4423\n",
            "\n",
            "Epoch 00014: loss did not improve from 2.61856\n",
            "Epoch 15/125\n",
            "3208/3208 [==============================] - 106s 33ms/step - loss: 2.6117 - accuracy: 0.4414\n",
            "\n",
            "Epoch 00015: loss improved from 2.61856 to 2.61166, saving model to /content/drive/MyDrive/Text-Generator/model_training.hdf5\n",
            "Epoch 16/125\n",
            "3208/3208 [==============================] - 110s 34ms/step - loss: 2.6143 - accuracy: 0.4422\n",
            "\n",
            "Epoch 00016: loss did not improve from 2.61166\n",
            "Epoch 17/125\n",
            "3208/3208 [==============================] - 108s 34ms/step - loss: 2.6049 - accuracy: 0.4443\n",
            "\n",
            "Epoch 00017: loss improved from 2.61166 to 2.60488, saving model to /content/drive/MyDrive/Text-Generator/model_training.hdf5\n",
            "Epoch 18/125\n",
            "3208/3208 [==============================] - 106s 33ms/step - loss: 2.6056 - accuracy: 0.4446\n",
            "\n",
            "Epoch 00018: loss did not improve from 2.60488\n",
            "Epoch 19/125\n",
            "3208/3208 [==============================] - 106s 33ms/step - loss: 2.5923 - accuracy: 0.4473\n",
            "\n",
            "Epoch 00019: loss improved from 2.60488 to 2.59227, saving model to /content/drive/MyDrive/Text-Generator/model_training.hdf5\n",
            "Epoch 20/125\n",
            "3208/3208 [==============================] - 107s 33ms/step - loss: 2.5888 - accuracy: 0.4471\n",
            "\n",
            "Epoch 00020: loss improved from 2.59227 to 2.58882, saving model to /content/drive/MyDrive/Text-Generator/model_training.hdf5\n",
            "Epoch 21/125\n",
            "3208/3208 [==============================] - 107s 33ms/step - loss: 2.5951 - accuracy: 0.4452\n",
            "\n",
            "Epoch 00021: loss did not improve from 2.58882\n",
            "Epoch 22/125\n",
            "3208/3208 [==============================] - 106s 33ms/step - loss: 2.5799 - accuracy: 0.4471\n",
            "\n",
            "Epoch 00022: loss improved from 2.58882 to 2.57985, saving model to /content/drive/MyDrive/Text-Generator/model_training.hdf5\n",
            "Epoch 23/125\n",
            "3208/3208 [==============================] - 107s 33ms/step - loss: 2.5809 - accuracy: 0.4486\n",
            "\n",
            "Epoch 00023: loss did not improve from 2.57985\n",
            "Epoch 24/125\n",
            "3208/3208 [==============================] - 106s 33ms/step - loss: 2.5692 - accuracy: 0.4503\n",
            "\n",
            "Epoch 00024: loss improved from 2.57985 to 2.56916, saving model to /content/drive/MyDrive/Text-Generator/model_training.hdf5\n",
            "Epoch 25/125\n",
            "3208/3208 [==============================] - 103s 32ms/step - loss: 2.5691 - accuracy: 0.4507\n",
            "\n",
            "Epoch 00025: loss improved from 2.56916 to 2.56909, saving model to /content/drive/MyDrive/Text-Generator/model_training.hdf5\n",
            "Epoch 26/125\n",
            "3208/3208 [==============================] - 105s 33ms/step - loss: 2.5753 - accuracy: 0.4490\n",
            "\n",
            "Epoch 00026: loss did not improve from 2.56909\n",
            "Epoch 27/125\n",
            "3208/3208 [==============================] - 104s 32ms/step - loss: 2.5675 - accuracy: 0.4493\n",
            "\n",
            "Epoch 00027: loss improved from 2.56909 to 2.56754, saving model to /content/drive/MyDrive/Text-Generator/model_training.hdf5\n",
            "Epoch 28/125\n",
            "3208/3208 [==============================] - 107s 33ms/step - loss: 2.5677 - accuracy: 0.4498\n",
            "\n",
            "Epoch 00028: loss did not improve from 2.56754\n",
            "Epoch 29/125\n",
            "3208/3208 [==============================] - 106s 33ms/step - loss: 2.5620 - accuracy: 0.4496\n",
            "\n",
            "Epoch 00029: loss improved from 2.56754 to 2.56203, saving model to /content/drive/MyDrive/Text-Generator/model_training.hdf5\n",
            "Epoch 30/125\n",
            "3208/3208 [==============================] - 110s 34ms/step - loss: 2.5549 - accuracy: 0.4512\n",
            "\n",
            "Epoch 00030: loss improved from 2.56203 to 2.55487, saving model to /content/drive/MyDrive/Text-Generator/model_training.hdf5\n",
            "Epoch 31/125\n",
            "3208/3208 [==============================] - 115s 36ms/step - loss: 2.5470 - accuracy: 0.4531\n",
            "\n",
            "Epoch 00031: loss improved from 2.55487 to 2.54698, saving model to /content/drive/MyDrive/Text-Generator/model_training.hdf5\n",
            "Epoch 32/125\n",
            "3208/3208 [==============================] - 110s 34ms/step - loss: 2.5490 - accuracy: 0.4536\n",
            "\n",
            "Epoch 00032: loss did not improve from 2.54698\n",
            "Epoch 33/125\n",
            "3208/3208 [==============================] - 106s 33ms/step - loss: 2.5462 - accuracy: 0.4545\n",
            "\n",
            "Epoch 00033: loss improved from 2.54698 to 2.54622, saving model to /content/drive/MyDrive/Text-Generator/model_training.hdf5\n",
            "Epoch 34/125\n",
            "3208/3208 [==============================] - 112s 35ms/step - loss: 2.5378 - accuracy: 0.4543\n",
            "\n",
            "Epoch 00034: loss improved from 2.54622 to 2.53777, saving model to /content/drive/MyDrive/Text-Generator/model_training.hdf5\n",
            "Epoch 35/125\n",
            "3208/3208 [==============================] - 116s 36ms/step - loss: 2.5401 - accuracy: 0.4541\n",
            "\n",
            "Epoch 00035: loss did not improve from 2.53777\n",
            "Epoch 36/125\n",
            "3208/3208 [==============================] - 106s 33ms/step - loss: 2.5405 - accuracy: 0.4548\n",
            "\n",
            "Epoch 00036: loss did not improve from 2.53777\n",
            "Epoch 37/125\n",
            "3208/3208 [==============================] - 110s 34ms/step - loss: 2.5313 - accuracy: 0.4560\n",
            "\n",
            "Epoch 00037: loss improved from 2.53777 to 2.53125, saving model to /content/drive/MyDrive/Text-Generator/model_training.hdf5\n",
            "Epoch 38/125\n",
            "3208/3208 [==============================] - 114s 35ms/step - loss: 2.5258 - accuracy: 0.4566\n",
            "\n",
            "Epoch 00038: loss improved from 2.53125 to 2.52582, saving model to /content/drive/MyDrive/Text-Generator/model_training.hdf5\n",
            "Epoch 39/125\n",
            "3208/3208 [==============================] - 112s 35ms/step - loss: 2.5248 - accuracy: 0.4580\n",
            "\n",
            "Epoch 00039: loss improved from 2.52582 to 2.52483, saving model to /content/drive/MyDrive/Text-Generator/model_training.hdf5\n",
            "Epoch 40/125\n",
            "3208/3208 [==============================] - 107s 33ms/step - loss: 2.5241 - accuracy: 0.4565\n",
            "\n",
            "Epoch 00040: loss improved from 2.52483 to 2.52412, saving model to /content/drive/MyDrive/Text-Generator/model_training.hdf5\n",
            "Epoch 41/125\n",
            "3208/3208 [==============================] - 106s 33ms/step - loss: 2.5254 - accuracy: 0.4559\n",
            "\n",
            "Epoch 00041: loss did not improve from 2.52412\n",
            "Epoch 42/125\n",
            "3208/3208 [==============================] - 106s 33ms/step - loss: 2.5135 - accuracy: 0.4601\n",
            "\n",
            "Epoch 00042: loss improved from 2.52412 to 2.51352, saving model to /content/drive/MyDrive/Text-Generator/model_training.hdf5\n",
            "Epoch 43/125\n",
            "3208/3208 [==============================] - 107s 33ms/step - loss: 2.5132 - accuracy: 0.4591\n",
            "\n",
            "Epoch 00043: loss improved from 2.51352 to 2.51322, saving model to /content/drive/MyDrive/Text-Generator/model_training.hdf5\n",
            "Epoch 44/125\n",
            "3208/3208 [==============================] - 108s 34ms/step - loss: 2.5105 - accuracy: 0.4598\n",
            "\n",
            "Epoch 00044: loss improved from 2.51322 to 2.51051, saving model to /content/drive/MyDrive/Text-Generator/model_training.hdf5\n",
            "Epoch 45/125\n",
            "3208/3208 [==============================] - 107s 33ms/step - loss: 2.5121 - accuracy: 0.4587\n",
            "\n",
            "Epoch 00045: loss did not improve from 2.51051\n",
            "Epoch 46/125\n",
            "3208/3208 [==============================] - 107s 33ms/step - loss: 2.5069 - accuracy: 0.4587\n",
            "\n",
            "Epoch 00046: loss improved from 2.51051 to 2.50690, saving model to /content/drive/MyDrive/Text-Generator/model_training.hdf5\n",
            "Epoch 47/125\n",
            "3208/3208 [==============================] - 107s 33ms/step - loss: 2.5017 - accuracy: 0.4602\n",
            "\n",
            "Epoch 00047: loss improved from 2.50690 to 2.50166, saving model to /content/drive/MyDrive/Text-Generator/model_training.hdf5\n",
            "Epoch 48/125\n",
            "3208/3208 [==============================] - 108s 34ms/step - loss: 2.4970 - accuracy: 0.4612\n",
            "\n",
            "Epoch 00048: loss improved from 2.50166 to 2.49704, saving model to /content/drive/MyDrive/Text-Generator/model_training.hdf5\n",
            "Epoch 49/125\n",
            "3208/3208 [==============================] - 108s 34ms/step - loss: 2.4968 - accuracy: 0.4608\n",
            "\n",
            "Epoch 00049: loss improved from 2.49704 to 2.49675, saving model to /content/drive/MyDrive/Text-Generator/model_training.hdf5\n",
            "Epoch 50/125\n",
            "3208/3208 [==============================] - 107s 33ms/step - loss: 2.4859 - accuracy: 0.4637\n",
            "\n",
            "Epoch 00050: loss improved from 2.49675 to 2.48591, saving model to /content/drive/MyDrive/Text-Generator/model_training.hdf5\n",
            "Epoch 51/125\n",
            "3208/3208 [==============================] - 108s 34ms/step - loss: 2.4905 - accuracy: 0.4640\n",
            "\n",
            "Epoch 00051: loss did not improve from 2.48591\n",
            "Epoch 52/125\n",
            "3208/3208 [==============================] - 107s 33ms/step - loss: 2.4871 - accuracy: 0.4623\n",
            "\n",
            "Epoch 00052: loss did not improve from 2.48591\n",
            "Epoch 53/125\n",
            "3208/3208 [==============================] - 107s 33ms/step - loss: 2.4836 - accuracy: 0.4641\n",
            "\n",
            "Epoch 00053: loss improved from 2.48591 to 2.48364, saving model to /content/drive/MyDrive/Text-Generator/model_training.hdf5\n",
            "Epoch 54/125\n",
            "3208/3208 [==============================] - 107s 33ms/step - loss: 2.4776 - accuracy: 0.4636\n",
            "\n",
            "Epoch 00054: loss improved from 2.48364 to 2.47760, saving model to /content/drive/MyDrive/Text-Generator/model_training.hdf5\n",
            "Epoch 55/125\n",
            "3208/3208 [==============================] - 107s 33ms/step - loss: 2.4821 - accuracy: 0.4633\n",
            "\n",
            "Epoch 00055: loss did not improve from 2.47760\n",
            "Epoch 56/125\n",
            "3208/3208 [==============================] - 106s 33ms/step - loss: 2.4720 - accuracy: 0.4642\n",
            "\n",
            "Epoch 00056: loss improved from 2.47760 to 2.47203, saving model to /content/drive/MyDrive/Text-Generator/model_training.hdf5\n",
            "Epoch 57/125\n",
            "3208/3208 [==============================] - 108s 34ms/step - loss: 2.4688 - accuracy: 0.4654\n",
            "\n",
            "Epoch 00057: loss improved from 2.47203 to 2.46880, saving model to /content/drive/MyDrive/Text-Generator/model_training.hdf5\n",
            "Epoch 58/125\n",
            "3208/3208 [==============================] - 107s 33ms/step - loss: 2.4679 - accuracy: 0.4646\n",
            "\n",
            "Epoch 00058: loss improved from 2.46880 to 2.46785, saving model to /content/drive/MyDrive/Text-Generator/model_training.hdf5\n",
            "Epoch 59/125\n",
            "3208/3208 [==============================] - 108s 34ms/step - loss: 2.4633 - accuracy: 0.4663\n",
            "\n",
            "Epoch 00059: loss improved from 2.46785 to 2.46331, saving model to /content/drive/MyDrive/Text-Generator/model_training.hdf5\n",
            "Epoch 60/125\n",
            "3208/3208 [==============================] - 109s 34ms/step - loss: 2.4688 - accuracy: 0.4661\n",
            "\n",
            "Epoch 00060: loss did not improve from 2.46331\n",
            "Epoch 61/125\n",
            "3208/3208 [==============================] - 108s 34ms/step - loss: 2.4687 - accuracy: 0.4665\n",
            "\n",
            "Epoch 00061: loss did not improve from 2.46331\n",
            "Epoch 62/125\n",
            "3208/3208 [==============================] - 108s 34ms/step - loss: 2.4630 - accuracy: 0.4668\n",
            "\n",
            "Epoch 00062: loss improved from 2.46331 to 2.46305, saving model to /content/drive/MyDrive/Text-Generator/model_training.hdf5\n",
            "Epoch 63/125\n",
            "3208/3208 [==============================] - 108s 34ms/step - loss: 2.4632 - accuracy: 0.4656\n",
            "\n",
            "Epoch 00063: loss did not improve from 2.46305\n",
            "Epoch 64/125\n",
            "3208/3208 [==============================] - 107s 33ms/step - loss: 2.4557 - accuracy: 0.4682\n",
            "\n",
            "Epoch 00064: loss improved from 2.46305 to 2.45572, saving model to /content/drive/MyDrive/Text-Generator/model_training.hdf5\n",
            "Epoch 65/125\n",
            "3208/3208 [==============================] - 108s 34ms/step - loss: 2.4611 - accuracy: 0.4673\n",
            "\n",
            "Epoch 00065: loss did not improve from 2.45572\n",
            "Epoch 66/125\n",
            "3208/3208 [==============================] - 107s 33ms/step - loss: 2.4473 - accuracy: 0.4699\n",
            "\n",
            "Epoch 00066: loss improved from 2.45572 to 2.44735, saving model to /content/drive/MyDrive/Text-Generator/model_training.hdf5\n",
            "Epoch 67/125\n",
            "3208/3208 [==============================] - 109s 34ms/step - loss: 2.4500 - accuracy: 0.4674\n",
            "\n",
            "Epoch 00067: loss did not improve from 2.44735\n",
            "Epoch 68/125\n",
            "3208/3208 [==============================] - 108s 34ms/step - loss: 2.4402 - accuracy: 0.4700\n",
            "\n",
            "Epoch 00068: loss improved from 2.44735 to 2.44019, saving model to /content/drive/MyDrive/Text-Generator/model_training.hdf5\n",
            "Epoch 69/125\n",
            "3208/3208 [==============================] - 108s 34ms/step - loss: 2.4413 - accuracy: 0.4711\n",
            "\n",
            "Epoch 00069: loss did not improve from 2.44019\n",
            "Epoch 70/125\n",
            "3208/3208 [==============================] - 108s 34ms/step - loss: 2.4359 - accuracy: 0.4720\n",
            "\n",
            "Epoch 00070: loss improved from 2.44019 to 2.43595, saving model to /content/drive/MyDrive/Text-Generator/model_training.hdf5\n",
            "Epoch 71/125\n",
            "3208/3208 [==============================] - 110s 34ms/step - loss: 2.4329 - accuracy: 0.4721\n",
            "\n",
            "Epoch 00071: loss improved from 2.43595 to 2.43291, saving model to /content/drive/MyDrive/Text-Generator/model_training.hdf5\n",
            "Epoch 72/125\n",
            "3208/3208 [==============================] - 109s 34ms/step - loss: 2.4487 - accuracy: 0.4699\n",
            "\n",
            "Epoch 00072: loss did not improve from 2.43291\n",
            "Epoch 73/125\n",
            "3208/3208 [==============================] - 108s 34ms/step - loss: 2.4297 - accuracy: 0.4722\n",
            "\n",
            "Epoch 00073: loss improved from 2.43291 to 2.42970, saving model to /content/drive/MyDrive/Text-Generator/model_training.hdf5\n",
            "Epoch 74/125\n",
            "3208/3208 [==============================] - 108s 34ms/step - loss: 2.4356 - accuracy: 0.4722\n",
            "\n",
            "Epoch 00074: loss did not improve from 2.42970\n",
            "Epoch 75/125\n",
            "3208/3208 [==============================] - 108s 34ms/step - loss: 2.4357 - accuracy: 0.4711\n",
            "\n",
            "Epoch 00075: loss did not improve from 2.42970\n",
            "Epoch 76/125\n",
            "3208/3208 [==============================] - 108s 34ms/step - loss: 2.4325 - accuracy: 0.4724\n",
            "\n",
            "Epoch 00076: loss did not improve from 2.42970\n",
            "Epoch 77/125\n",
            "3208/3208 [==============================] - 108s 34ms/step - loss: 2.4255 - accuracy: 0.4738\n",
            "\n",
            "Epoch 00077: loss improved from 2.42970 to 2.42546, saving model to /content/drive/MyDrive/Text-Generator/model_training.hdf5\n",
            "Epoch 78/125\n",
            "3208/3208 [==============================] - 109s 34ms/step - loss: 2.4291 - accuracy: 0.4731\n",
            "\n",
            "Epoch 00078: loss did not improve from 2.42546\n",
            "Epoch 79/125\n",
            "3208/3208 [==============================] - 108s 34ms/step - loss: 2.4271 - accuracy: 0.4728\n",
            "\n",
            "Epoch 00079: loss did not improve from 2.42546\n",
            "Epoch 80/125\n",
            "3208/3208 [==============================] - 108s 34ms/step - loss: 2.4190 - accuracy: 0.4737\n",
            "\n",
            "Epoch 00080: loss improved from 2.42546 to 2.41902, saving model to /content/drive/MyDrive/Text-Generator/model_training.hdf5\n",
            "Epoch 81/125\n",
            "3208/3208 [==============================] - 109s 34ms/step - loss: 2.4179 - accuracy: 0.4739\n",
            "\n",
            "Epoch 00081: loss improved from 2.41902 to 2.41794, saving model to /content/drive/MyDrive/Text-Generator/model_training.hdf5\n",
            "Epoch 82/125\n",
            "3208/3208 [==============================] - 109s 34ms/step - loss: 2.4201 - accuracy: 0.4717\n",
            "\n",
            "Epoch 00082: loss did not improve from 2.41794\n",
            "Epoch 83/125\n",
            "3208/3208 [==============================] - 108s 34ms/step - loss: 2.4237 - accuracy: 0.4751\n",
            "\n",
            "Epoch 00083: loss did not improve from 2.41794\n",
            "Epoch 84/125\n",
            "3208/3208 [==============================] - 108s 34ms/step - loss: 2.4151 - accuracy: 0.4755\n",
            "\n",
            "Epoch 00084: loss improved from 2.41794 to 2.41510, saving model to /content/drive/MyDrive/Text-Generator/model_training.hdf5\n",
            "Epoch 85/125\n",
            "3208/3208 [==============================] - 109s 34ms/step - loss: 2.4086 - accuracy: 0.4760\n",
            "\n",
            "Epoch 00085: loss improved from 2.41510 to 2.40858, saving model to /content/drive/MyDrive/Text-Generator/model_training.hdf5\n",
            "Epoch 86/125\n",
            "3208/3208 [==============================] - 110s 34ms/step - loss: 2.4155 - accuracy: 0.4738\n",
            "\n",
            "Epoch 00086: loss did not improve from 2.40858\n",
            "Epoch 87/125\n",
            "3208/3208 [==============================] - 109s 34ms/step - loss: 2.4015 - accuracy: 0.4781\n",
            "\n",
            "Epoch 00087: loss improved from 2.40858 to 2.40153, saving model to /content/drive/MyDrive/Text-Generator/model_training.hdf5\n",
            "Epoch 88/125\n",
            "3208/3208 [==============================] - 109s 34ms/step - loss: 2.3964 - accuracy: 0.4789\n",
            "\n",
            "Epoch 00088: loss improved from 2.40153 to 2.39643, saving model to /content/drive/MyDrive/Text-Generator/model_training.hdf5\n",
            "Epoch 89/125\n",
            "3208/3208 [==============================] - 110s 34ms/step - loss: 2.4027 - accuracy: 0.4756\n",
            "\n",
            "Epoch 00089: loss did not improve from 2.39643\n",
            "Epoch 90/125\n",
            "3208/3208 [==============================] - 108s 34ms/step - loss: 2.3963 - accuracy: 0.4783\n",
            "\n",
            "Epoch 00090: loss improved from 2.39643 to 2.39625, saving model to /content/drive/MyDrive/Text-Generator/model_training.hdf5\n",
            "Epoch 91/125\n",
            "3208/3208 [==============================] - 110s 34ms/step - loss: 2.4061 - accuracy: 0.4752\n",
            "\n",
            "Epoch 00091: loss did not improve from 2.39625\n",
            "Epoch 92/125\n",
            "3208/3208 [==============================] - 109s 34ms/step - loss: 2.3822 - accuracy: 0.4796\n",
            "\n",
            "Epoch 00092: loss improved from 2.39625 to 2.38216, saving model to /content/drive/MyDrive/Text-Generator/model_training.hdf5\n",
            "Epoch 93/125\n",
            "3208/3208 [==============================] - 109s 34ms/step - loss: 2.4009 - accuracy: 0.4794\n",
            "\n",
            "Epoch 00093: loss did not improve from 2.38216\n",
            "Epoch 94/125\n",
            "3208/3208 [==============================] - 108s 34ms/step - loss: 2.3989 - accuracy: 0.4775\n",
            "\n",
            "Epoch 00094: loss did not improve from 2.38216\n",
            "Epoch 95/125\n",
            "3208/3208 [==============================] - 108s 34ms/step - loss: 2.3942 - accuracy: 0.4787\n",
            "\n",
            "Epoch 00095: loss did not improve from 2.38216\n",
            "Epoch 96/125\n",
            "3208/3208 [==============================] - 108s 34ms/step - loss: 2.3849 - accuracy: 0.4800\n",
            "\n",
            "Epoch 00096: loss did not improve from 2.38216\n",
            "Epoch 97/125\n",
            "3208/3208 [==============================] - 108s 34ms/step - loss: 2.3862 - accuracy: 0.4789\n",
            "\n",
            "Epoch 00097: loss did not improve from 2.38216\n",
            "Epoch 98/125\n",
            "3208/3208 [==============================] - 107s 33ms/step - loss: 2.3962 - accuracy: 0.4786\n",
            "\n",
            "Epoch 00098: loss did not improve from 2.38216\n",
            "Epoch 99/125\n",
            "3208/3208 [==============================] - 108s 34ms/step - loss: 2.3878 - accuracy: 0.4791\n",
            "\n",
            "Epoch 00099: loss did not improve from 2.38216\n",
            "Epoch 100/125\n",
            "3208/3208 [==============================] - 107s 33ms/step - loss: 2.3850 - accuracy: 0.4800\n",
            "\n",
            "Epoch 00100: loss did not improve from 2.38216\n",
            "Epoch 101/125\n",
            "3208/3208 [==============================] - 107s 33ms/step - loss: 2.3768 - accuracy: 0.4813\n",
            "\n",
            "Epoch 00101: loss improved from 2.38216 to 2.37682, saving model to /content/drive/MyDrive/Text-Generator/model_training.hdf5\n",
            "Epoch 102/125\n",
            "3208/3208 [==============================] - 109s 34ms/step - loss: 2.3822 - accuracy: 0.4806\n",
            "\n",
            "Epoch 00102: loss did not improve from 2.37682\n",
            "Epoch 103/125\n",
            "3208/3208 [==============================] - 109s 34ms/step - loss: 2.3827 - accuracy: 0.4803\n",
            "\n",
            "Epoch 00103: loss did not improve from 2.37682\n",
            "Epoch 104/125\n",
            "3208/3208 [==============================] - 108s 34ms/step - loss: 2.3831 - accuracy: 0.4802\n",
            "\n",
            "Epoch 00104: loss did not improve from 2.37682\n",
            "Epoch 105/125\n",
            "3208/3208 [==============================] - 109s 34ms/step - loss: 2.3757 - accuracy: 0.4819\n",
            "\n",
            "Epoch 00105: loss improved from 2.37682 to 2.37573, saving model to /content/drive/MyDrive/Text-Generator/model_training.hdf5\n",
            "Epoch 106/125\n",
            "3208/3208 [==============================] - 111s 35ms/step - loss: 2.3750 - accuracy: 0.4806\n",
            "\n",
            "Epoch 00106: loss improved from 2.37573 to 2.37502, saving model to /content/drive/MyDrive/Text-Generator/model_training.hdf5\n",
            "Epoch 107/125\n",
            "3208/3208 [==============================] - 110s 34ms/step - loss: 2.3787 - accuracy: 0.4816\n",
            "\n",
            "Epoch 00107: loss did not improve from 2.37502\n",
            "Epoch 108/125\n",
            "3208/3208 [==============================] - 109s 34ms/step - loss: 2.3706 - accuracy: 0.4820\n",
            "\n",
            "Epoch 00108: loss improved from 2.37502 to 2.37064, saving model to /content/drive/MyDrive/Text-Generator/model_training.hdf5\n",
            "Epoch 109/125\n",
            "3208/3208 [==============================] - 109s 34ms/step - loss: 2.3621 - accuracy: 0.4844\n",
            "\n",
            "Epoch 00109: loss improved from 2.37064 to 2.36214, saving model to /content/drive/MyDrive/Text-Generator/model_training.hdf5\n",
            "Epoch 110/125\n",
            "3208/3208 [==============================] - 111s 35ms/step - loss: 2.3644 - accuracy: 0.4838\n",
            "\n",
            "Epoch 00110: loss did not improve from 2.36214\n",
            "Epoch 111/125\n",
            "3208/3208 [==============================] - 110s 34ms/step - loss: 2.3647 - accuracy: 0.4840\n",
            "\n",
            "Epoch 00111: loss did not improve from 2.36214\n",
            "Epoch 112/125\n",
            "3208/3208 [==============================] - 110s 34ms/step - loss: 2.3628 - accuracy: 0.4827\n",
            "\n",
            "Epoch 00112: loss did not improve from 2.36214\n",
            "Epoch 113/125\n",
            "3208/3208 [==============================] - 110s 34ms/step - loss: 2.3649 - accuracy: 0.4816\n",
            "\n",
            "Epoch 00113: loss did not improve from 2.36214\n",
            "Epoch 114/125\n",
            "3208/3208 [==============================] - 110s 34ms/step - loss: 2.3676 - accuracy: 0.4815\n",
            "\n",
            "Epoch 00114: loss did not improve from 2.36214\n",
            "Epoch 115/125\n",
            "3208/3208 [==============================] - 110s 34ms/step - loss: 2.3644 - accuracy: 0.4821\n",
            "\n",
            "Epoch 00115: loss did not improve from 2.36214\n",
            "Epoch 116/125\n",
            "3208/3208 [==============================] - 110s 34ms/step - loss: 2.3597 - accuracy: 0.4840\n",
            "\n",
            "Epoch 00116: loss improved from 2.36214 to 2.35972, saving model to /content/drive/MyDrive/Text-Generator/model_training.hdf5\n",
            "Epoch 117/125\n",
            "3208/3208 [==============================] - 110s 34ms/step - loss: 2.3510 - accuracy: 0.4854\n",
            "\n",
            "Epoch 00117: loss improved from 2.35972 to 2.35100, saving model to /content/drive/MyDrive/Text-Generator/model_training.hdf5\n",
            "Epoch 118/125\n",
            "3208/3208 [==============================] - 110s 34ms/step - loss: 2.3529 - accuracy: 0.4842\n",
            "\n",
            "Epoch 00118: loss did not improve from 2.35100\n",
            "Epoch 119/125\n",
            "3208/3208 [==============================] - 109s 34ms/step - loss: 2.3563 - accuracy: 0.4847\n",
            "\n",
            "Epoch 00119: loss did not improve from 2.35100\n",
            "Epoch 120/125\n",
            "3208/3208 [==============================] - 109s 34ms/step - loss: 2.3445 - accuracy: 0.4859\n",
            "\n",
            "Epoch 00120: loss improved from 2.35100 to 2.34446, saving model to /content/drive/MyDrive/Text-Generator/model_training.hdf5\n",
            "Epoch 121/125\n",
            "3208/3208 [==============================] - 110s 34ms/step - loss: 2.3466 - accuracy: 0.4861\n",
            "\n",
            "Epoch 00121: loss did not improve from 2.34446\n",
            "Epoch 122/125\n",
            "3208/3208 [==============================] - 110s 34ms/step - loss: 2.3510 - accuracy: 0.4858\n",
            "\n",
            "Epoch 00122: loss did not improve from 2.34446\n",
            "Epoch 123/125\n",
            "3208/3208 [==============================] - 109s 34ms/step - loss: 2.3452 - accuracy: 0.4873\n",
            "\n",
            "Epoch 00123: loss did not improve from 2.34446\n",
            "Epoch 124/125\n",
            "3208/3208 [==============================] - 109s 34ms/step - loss: 2.3436 - accuracy: 0.4860\n",
            "\n",
            "Epoch 00124: loss improved from 2.34446 to 2.34358, saving model to /content/drive/MyDrive/Text-Generator/model_training.hdf5\n",
            "Epoch 125/125\n",
            "3208/3208 [==============================] - 110s 34ms/step - loss: 2.3409 - accuracy: 0.4867\n",
            "\n",
            "Epoch 00125: loss improved from 2.34358 to 2.34092, saving model to /content/drive/MyDrive/Text-Generator/model_training.hdf5\n"
          ],
          "name": "stdout"
        }
      ]
    },
    {
      "cell_type": "markdown",
      "metadata": {
        "id": "tU1_VqKC_gbH"
      },
      "source": [
        "## Saving final model"
      ]
    },
    {
      "cell_type": "code",
      "metadata": {
        "id": "qfH7mgCYCw6A"
      },
      "source": [
        "model.save(\"/content/drive/MyDrive/Text-Generator/model1.hdf5\")"
      ],
      "execution_count": 13,
      "outputs": []
    },
    {
      "cell_type": "markdown",
      "metadata": {
        "id": "rzZCCnhX-6Xh"
      },
      "source": [
        "##Loading Pre-trained model"
      ]
    },
    {
      "cell_type": "code",
      "metadata": {
        "trusted": true,
        "id": "8cPdEWrTS76K"
      },
      "source": [
        "from tensorflow import keras\n",
        "model = keras.models.load_model('/content/drive/MyDrive/Text-Generator/model1.hdf5')"
      ],
      "execution_count": 10,
      "outputs": []
    },
    {
      "cell_type": "markdown",
      "metadata": {
        "id": "MB300vpU_Bof"
      },
      "source": [
        "## Example prediction of trained model."
      ]
    },
    {
      "cell_type": "code",
      "metadata": {
        "id": "kdQggwItJ3fa",
        "trusted": true,
        "colab": {
          "base_uri": "https://localhost:8080/"
        },
        "outputId": "95480305-a572-4cc6-d762-20497071fef9"
      },
      "source": [
        "seed_text = \"sherlock was indeed\"\n",
        "next_words = 10\n",
        "  \n",
        "for _ in range(next_words):\n",
        " token_list = tokenizer.texts_to_sequences([seed_text])[0]\n",
        " token_list = pad_sequences([token_list], maxlen=max_sequence_len-1, padding='pre')\n",
        " predicted = np.argmax(model.predict(token_list), axis=-1)\n",
        " output_word = \"\"\n",
        " for word, index in tokenizer.word_index.items():\n",
        "  if index == predicted:\n",
        "   output_word = word\n",
        "   break\n",
        " seed_text += \" \" + output_word\n",
        "print(seed_text)"
      ],
      "execution_count": 11,
      "outputs": [
        {
          "output_type": "stream",
          "text": [
            "sherlock was indeed the facts have been in the same source that you\n"
          ],
          "name": "stdout"
        }
      ]
    }
  ]
}